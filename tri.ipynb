{
 "cells": [
  {
   "cell_type": "markdown",
   "metadata": {},
   "source": [
    "Foremost, a trial."
   ]
  }
 ],
 "metadata": {
  "kernelspec": {
   "display_name": "Python 3",
   "language": "python",
   "name": "python3"
  },
  "language_info": {
   "name": ""
  }
 },
 "nbformat": 4,
 "nbformat_minor": 4
}
