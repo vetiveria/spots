{
  "nbformat": 4,
  "nbformat_minor": 0,
  "metadata": {
    "kernelspec": {
      "display_name": "Python 3",
      "language": "python",
      "name": "python3"
    },
    "language_info": {
      "name": ""
    },
    "colab": {
      "name": "data.ipynb",
      "provenance": [],
      "collapsed_sections": [],
      "toc_visible": true
    }
  },
  "cells": [
    {
      "cell_type": "markdown",
      "metadata": {
        "id": "4nKYrv7YLRnE"
      },
      "source": [
        "# Hazardous Spots"
      ]
    },
    {
      "cell_type": "markdown",
      "metadata": {
        "id": "bZPxYwZ-Ldmd"
      },
      "source": [
        "**Aim**: The aim herein is to acquire the geographic - and industry - details of all entitities that are considered hazard release spots by the [toxics release inventory](https://enviro.epa.gov/triexplorer/tri_release.facility)\n",
        "\n",
        "<br>\n",
        "\n",
        "**Important**: It seems that the [United States Environmental Protection Agency](https://www.epa.gov/) is in the midst of upgrading its data services.  This seems to include the decommissioning of \n",
        "\n",
        "* https://data.epa.gov/efservice/ \n",
        "\n",
        "and replacing it with\n",
        "\n",
        "* http://iaspub.epa.gov/enviro/efservice\n",
        "\n",
        "Peculiarly, https://data.epa.gov/efservice/ is **out of service**, but http://iaspub.epa.gov/enviro/efservice is **not in service**.  **Therefore, this notebook cannot function at present.**  This state of affairs was anticipated.  Thus, a set of results this notebook produced, whilst it could function, can be retrieved from GitHub."
      ]
    },
    {
      "cell_type": "markdown",
      "metadata": {
        "id": "OXGwQ8sGKZ8a"
      },
      "source": [
        "<br>\r\n",
        "<br>\r\n",
        "\r\n",
        "## Preliminaries"
      ]
    },
    {
      "cell_type": "markdown",
      "metadata": {
        "id": "tlj8Wp6iMfUd"
      },
      "source": [
        "```bash\n",
        "# machine characteristics\n",
        "cat /etc/issue &> logs/ubuntu.log\n",
        "cat /proc/cpuinfo &> logs/cpu.log\n",
        "cat /proc/meminfo &> logs/memory.log\n",
        "```\n",
        "\n",
        "<br>\n"
      ]
    },
    {
      "cell_type": "markdown",
      "metadata": {
        "id": "j8KxesDUf98n"
      },
      "source": [
        "Cleaning-up"
      ]
    },
    {
      "cell_type": "code",
      "metadata": {
        "id": "ogUi6XWWf6fp"
      },
      "source": [
        "!rm -rf *.sh"
      ],
      "execution_count": 1,
      "outputs": []
    },
    {
      "cell_type": "markdown",
      "metadata": {
        "id": "YARt9PnOqEUF"
      },
      "source": [
        "<br>\n",
        "<br>\n",
        "\n",
        "### Packages"
      ]
    },
    {
      "cell_type": "code",
      "metadata": {
        "id": "odgzCvOzfHCG"
      },
      "source": [
        "import subprocess"
      ],
      "execution_count": 2,
      "outputs": []
    },
    {
      "cell_type": "code",
      "metadata": {
        "id": "ANUTfA_RfKV5"
      },
      "source": [
        "if 'google.colab' in str(get_ipython()):\r\n",
        "    subprocess.run('wget -q https://raw.githubusercontent.com/vetiveria/spots/develop/scripts.sh', shell=True)\r\n",
        "    subprocess.run('chmod u+x scripts.sh', shell=True)\r\n",
        "    subprocess.run('./scripts.sh', shell=True)"
      ],
      "execution_count": 3,
      "outputs": []
    },
    {
      "cell_type": "markdown",
      "metadata": {
        "id": "Gpkb36vAJfuK"
      },
      "source": [
        "<br>\n",
        "<br>\n",
        "\n",
        "### Libraries"
      ]
    },
    {
      "cell_type": "code",
      "metadata": {
        "id": "AfT4HFo5cvYk"
      },
      "source": [
        "import pandas as pd\n",
        "import dask.dataframe as dd\n",
        "import dask\n",
        "import numpy as np\n",
        "import requests\n",
        "import os"
      ],
      "execution_count": 4,
      "outputs": []
    },
    {
      "cell_type": "code",
      "metadata": {
        "id": "tFd-EmHlLMQ1"
      },
      "source": [
        "import logging"
      ],
      "execution_count": 5,
      "outputs": []
    },
    {
      "cell_type": "markdown",
      "metadata": {
        "id": "F1aEtBPub03j"
      },
      "source": [
        "<br>\n",
        "\n",
        "### Logging"
      ]
    },
    {
      "cell_type": "code",
      "metadata": {
        "id": "xMiYY37Vb3oL"
      },
      "source": [
        "logging.basicConfig(level=logging.ERROR, format='%(asctime)s \\n\\r %(levelname)s %(message)s', datefmt='%H:%M:%S')\n",
        "logger = logging.getLogger(__name__)"
      ],
      "execution_count": 6,
      "outputs": []
    },
    {
      "cell_type": "markdown",
      "metadata": {
        "id": "ZHlKCWfhJrzf"
      },
      "source": [
        "<br>\n",
        "<br>\n",
        "\n",
        "### Classes"
      ]
    },
    {
      "cell_type": "code",
      "metadata": {
        "id": "jHaAaWwggIz5"
      },
      "source": [
        "import src.boundaries.boundaries\n",
        "import src.settings\n",
        "\n",
        "import src.references.chemicals\n",
        "import src.references.naics\n",
        "import src.references.industries\n",
        "\n",
        "import src.releases.request\n",
        "import src.releases.helpers"
      ],
      "execution_count": 7,
      "outputs": []
    },
    {
      "cell_type": "markdown",
      "metadata": {
        "id": "5V11Fm6c_HfU"
      },
      "source": [
        "<br>\n",
        "\n",
        "Instantiate"
      ]
    },
    {
      "cell_type": "code",
      "metadata": {
        "id": "GaLEitv3gb27"
      },
      "source": [
        "settings = src.settings.Settings()\n",
        "boundaries = src.boundaries.boundaries.Boundaries(crs=settings.crs)"
      ],
      "execution_count": 8,
      "outputs": []
    },
    {
      "cell_type": "markdown",
      "metadata": {
        "id": "US8gsnxgo6Ou"
      },
      "source": [
        "<br>\r\n",
        "<br>\r\n",
        "\r\n",
        "## References"
      ]
    },
    {
      "cell_type": "code",
      "metadata": {
        "id": "Z1WF8yZl6J5X"
      },
      "source": [
        "referencespath = os.path.join(os.getcwd(), 'warehouse', 'references')\r\n",
        "\r\n",
        "if not os.path.exists(referencespath):\r\n",
        "\r\n",
        "    os.makedirs(referencespath)"
      ],
      "execution_count": 9,
      "outputs": []
    },
    {
      "cell_type": "markdown",
      "metadata": {
        "id": "B5jCKgoqvWmY"
      },
      "source": [
        "### NAICS"
      ]
    },
    {
      "cell_type": "code",
      "metadata": {
        "colab": {
          "base_uri": "https://localhost:8080/"
        },
        "id": "ihAoU8NYwHeH",
        "outputId": "8f9b1a1c-c869-4903-c04f-18ef9fd873ad"
      },
      "source": [
        "naics = src.references.naics.NAICS().exc()\r\n",
        "naics.info()"
      ],
      "execution_count": 10,
      "outputs": [
        {
          "output_type": "stream",
          "text": [
            "<class 'pandas.core.frame.DataFrame'>\n",
            "RangeIndex: 2003 entries, 0 to 2002\n",
            "Data columns (total 2 columns):\n",
            " #   Column       Non-Null Count  Dtype \n",
            "---  ------       --------------  ----- \n",
            " 0   naics        2003 non-null   int64 \n",
            " 1   description  2003 non-null   object\n",
            "dtypes: int64(1), object(1)\n",
            "memory usage: 31.4+ KB\n"
          ],
          "name": "stdout"
        }
      ]
    },
    {
      "cell_type": "code",
      "metadata": {
        "id": "CMBEKwDo7Bnf"
      },
      "source": [
        "naics.to_csv(path_or_buf=os.path.join(referencespath, 'naics.csv'), header=True, index=False, encoding='UTF-8')"
      ],
      "execution_count": 11,
      "outputs": []
    },
    {
      "cell_type": "markdown",
      "metadata": {
        "id": "Q0MuP8_Dy_-h"
      },
      "source": [
        "<br>\r\n",
        "<br>\r\n",
        "\r\n",
        "### Industries"
      ]
    },
    {
      "cell_type": "code",
      "metadata": {
        "colab": {
          "base_uri": "https://localhost:8080/"
        },
        "id": "ndV2SwhNzEKi",
        "outputId": "2e5185ee-8fe8-411b-92c9-45d638f099a1"
      },
      "source": [
        "industries = src.references.industries.Industries().exc()\r\n",
        "industries.info()"
      ],
      "execution_count": 12,
      "outputs": [
        {
          "output_type": "stream",
          "text": [
            "<class 'pandas.core.frame.DataFrame'>\n",
            "RangeIndex: 30 entries, 0 to 29\n",
            "Data columns (total 2 columns):\n",
            " #   Column         Non-Null Count  Dtype \n",
            "---  ------         --------------  ----- \n",
            " 0   industry_code  30 non-null     int64 \n",
            " 1   name           30 non-null     object\n",
            "dtypes: int64(1), object(1)\n",
            "memory usage: 608.0+ bytes\n"
          ],
          "name": "stdout"
        }
      ]
    },
    {
      "cell_type": "code",
      "metadata": {
        "id": "sNW3PoNZ7SgV"
      },
      "source": [
        "industries.to_csv(path_or_buf=os.path.join(referencespath, 'industries.csv'), header=True, index=False, encoding='UTF-8')"
      ],
      "execution_count": 13,
      "outputs": []
    },
    {
      "cell_type": "markdown",
      "metadata": {
        "id": "JR9RRlh9Fwlr"
      },
      "source": [
        "<br>\n",
        "<br>\n",
        "\n",
        "### Chemicals"
      ]
    },
    {
      "cell_type": "code",
      "metadata": {
        "id": "-Sgb7TckFyho",
        "colab": {
          "base_uri": "https://localhost:8080/",
          "height": 495
        },
        "outputId": "26b8e2f5-6ec9-4829-d323-4dc8bd521c8b"
      },
      "source": [
        "chemicals = src.references.chemicals.Chemicals().exc()\n",
        "chemicals.info()"
      ],
      "execution_count": null,
      "outputs": [
        {
          "output_type": "stream",
          "text": [
            "<class 'pandas.core.frame.DataFrame'>\n",
            "Int64Index: 649 entries, 0 to 650\n",
            "Data columns (total 19 columns):\n",
            " #   Column                     Non-Null Count  Dtype  \n",
            "---  ------                     --------------  -----  \n",
            " 0   TRI_CHEM_ID                649 non-null    object \n",
            " 1   CHEM_NAME                  649 non-null    object \n",
            " 2   ACTIVE_DATE                649 non-null    int64  \n",
            " 3   INACTIVE_DATE              649 non-null    int64  \n",
            " 4   CAAC_IND                   649 non-null    int64  \n",
            " 5   CARC_IND                   649 non-null    int64  \n",
            " 6   R3350_IND                  649 non-null    int64  \n",
            " 7   METAL_IND                  649 non-null    int64  \n",
            " 8   FEDS_IND                   649 non-null    int64  \n",
            " 9   CLASSIFICATION             649 non-null    int64  \n",
            " 10  PBT_START_YEAR             21 non-null     float64\n",
            " 11  PBT_END_YEAR               21 non-null     float64\n",
            " 12  NO_DECIMALS                20 non-null     float64\n",
            " 13  UNIT_OF_MEASURE            649 non-null    object \n",
            " 14  CAS_REGISTRY_NUMBER        649 non-null    object \n",
            " 15  SRS_ID                     646 non-null    float64\n",
            " 16  DEFAULT_PERCENTAGE_TO_81C  648 non-null    float64\n",
            " 17  DEFAULT_PERCENTAGE_TO_81D  648 non-null    float64\n",
            " 18  DEFAULT_PERCENTAGE_TO_87   648 non-null    float64\n",
            "dtypes: float64(7), int64(8), object(4)\n",
            "memory usage: 101.4+ KB\n"
          ],
          "name": "stdout"
        }
      ]
    },
    {
      "cell_type": "markdown",
      "metadata": {
        "id": "U6epbnLixQCl"
      },
      "source": [
        "<br>\n",
        "<br>\n",
        "\n",
        "## Front Matter"
      ]
    },
    {
      "cell_type": "markdown",
      "metadata": {
        "id": "lwBLc6thPueM"
      },
      "source": [
        "This module's objectives\n",
        "\n",
        "* acquire the lists of hazardous sites from the old TRI repository, and ensure that each site has its coordinate details: longitude, latitude, state FP/GEOID, county FP/GEOID, tract CE/GEOID\n",
        "* acquire the lists of hazardous sites from the latest TRI Services repository\n",
        "* map the details of these repositories\n",
        "* acquire their industry classifications\n",
        "* create an efficient storage set-up for the outcomes"
      ]
    },
    {
      "cell_type": "markdown",
      "metadata": {
        "id": "UzbrI5TanDYl"
      },
      "source": [
        "<br>\n",
        "<br>\n",
        "\n",
        "### TRI"
      ]
    },
    {
      "cell_type": "markdown",
      "metadata": {
        "id": "j9NuJM8A24qe"
      },
      "source": [
        "```bash\n",
        "%%bash\n",
        "python src/tri/main.py\n",
        "ls spots/mapable/*csv | wc -l\n",
        "ls spots/mapable/*csv | wc -l\n",
        "```"
      ]
    },
    {
      "cell_type": "markdown",
      "metadata": {
        "id": "dmh0C7QjH7BL"
      },
      "source": [
        "<br>\n",
        "<br>\n",
        "\n",
        "### NAICS"
      ]
    },
    {
      "cell_type": "markdown",
      "metadata": {
        "id": "AVZPr74j3CLb"
      },
      "source": [
        "```bash\n",
        "%%bash\n",
        "python src/naics/main.py\n",
        "ls naics/*csv | wc -l\n",
        "```"
      ]
    },
    {
      "cell_type": "markdown",
      "metadata": {
        "id": "sq2AI2kl3QWB"
      },
      "source": [
        "<br>\n",
        "<br>\n",
        "\n",
        "## Releases"
      ]
    },
    {
      "cell_type": "markdown",
      "metadata": {
        "id": "f4Rxh6u0GH4R"
      },
      "source": [
        "States"
      ]
    },
    {
      "cell_type": "code",
      "metadata": {
        "id": "ovsXC-KRgjMs"
      },
      "source": [
        "states = boundaries.states(settings.latest)\n",
        "states.info()"
      ],
      "execution_count": null,
      "outputs": []
    },
    {
      "cell_type": "markdown",
      "metadata": {
        "id": "rLDM12qLOm3K"
      },
      "source": [
        "<br>\n",
        "\n",
        "Counties"
      ]
    },
    {
      "cell_type": "code",
      "metadata": {
        "id": "Yv7KU6CAzYWy"
      },
      "source": [
        "counties = boundaries.counties(settings.latest)\n",
        "counties = counties.merge(states[['STATEFP', 'STUSPS']], on='STATEFP', how='left')\n",
        "counties.rename(columns={'GEOID': 'COUNTYGEOID'}, inplace=True)\n",
        "counties.info()"
      ],
      "execution_count": null,
      "outputs": []
    },
    {
      "cell_type": "markdown",
      "metadata": {
        "id": "av2rag-kYRLu"
      },
      "source": [
        "<br>\n",
        "\n",
        "Directories"
      ]
    },
    {
      "cell_type": "code",
      "metadata": {
        "id": "K_KNH7B_fH5i"
      },
      "source": [
        "releasespath = os.path.join(os.getcwd(), 'warehouse', 'designs', 'designs')\n",
        "if not os.path.exists(releasespath):\n",
        "    os.makedirs(releasespath)"
      ],
      "execution_count": null,
      "outputs": []
    },
    {
      "cell_type": "markdown",
      "metadata": {
        "id": "fnOLqxdzg9lX"
      },
      "source": [
        "<br>\n",
        "<br>\n",
        "\n",
        "### Setting-up"
      ]
    },
    {
      "cell_type": "markdown",
      "metadata": {
        "id": "3D65Fog9xods"
      },
      "source": [
        "Initially focus on LA.  Remember, these are **on-site releases & disposals**"
      ]
    },
    {
      "cell_type": "markdown",
      "metadata": {
        "id": "-34YWyyDN04Z"
      },
      "source": [
        "In brief:\n",
        "\n",
        "* Drop: FACILITY_NAME, EPA_REGISTRY_ID, CAS_CHEM_NAME, RELEASE_BASIS_EST_CODE\n",
        "* Only select cases whereby TRADE_SECRET_IND == 0\n",
        "* Ascertain data consistency w.r.t. ENVIRONMENTAL_MEDIUM\n",
        "* Drop duplicates\n",
        "\n",
        "The last step merges the distributed data lines of the dask.DataFrame.  Beware of\n",
        "\n",
        "* The `DOC_CTRL_NUM`, `WATER_SEQUENCE_NUM`, `ENVIRONMENTAL_MEDIUM` fields; these probably aid distinct record identification via `drop_duplicates`.\n",
        "\n",
        "* Units of measure differences; a mix of pounds & grams\n",
        "\n",
        "\n",
        "\n",
        "<br>"
      ]
    },
    {
      "cell_type": "markdown",
      "metadata": {
        "id": "QLmpoZmoJQfN"
      },
      "source": [
        "<br>\n",
        "<br>\n",
        "\n",
        "### Steps"
      ]
    },
    {
      "cell_type": "code",
      "metadata": {
        "id": "VnktBQcqXrlE"
      },
      "source": [
        "request = src.releases.request.Request()\n",
        "helpers = src.releases.helpers.Helpers(counties=counties, chemicals=chemicals)"
      ],
      "execution_count": null,
      "outputs": []
    },
    {
      "cell_type": "code",
      "metadata": {
        "id": "j1wKFHdOc_TW"
      },
      "source": [
        "for index in states[5:6].index:\n",
        "\n",
        "    logger.info('\\n...{}'.format(states.STUSPS[index]))\n",
        "\n",
        "    # A state's data streams\n",
        "    streams = request.exc(state=states.STUSPS[index])\n",
        "\n",
        "    # The streams: county, year, and chemical level\n",
        "    distributions = streams.compute(scheduler='processes')\n",
        "\n",
        "    # The chemical amount released; the by year optionmight be removed in future\n",
        "    base = distributions.groupby(by=['COUNTYGEOID', 'TRI_CHEM_ID', 'REPORTING_YEAR'])['TOTAL_RELEASE'].sum()\n",
        "    base = base.reset_index(drop=False)\n",
        "\n",
        "    # Get the unit of measure per chemical\n",
        "    details = helpers.units(data=base.copy())\n",
        "\n",
        "    # Ensure consistent release measures\n",
        "    transformed = helpers.weights(data=details.copy())\n",
        "\n",
        "    # Preliminary Focus: Analysis w.r.t. total release over time, per county & chemical\n",
        "    # points = transformed.groupby(by=['COUNTYGEOID', 'TRI_CHEM_ID'])['RELEASE_KG'].sum()\n",
        "    # points = points.reset_index(drop=False)\n",
        "    points = transformed\n",
        "\n",
        "    # Design matrix\n",
        "    matrix = helpers.regressors(data=points, state=states.STUSPS[index])\n",
        "    logger.info(matrix.info())\n",
        "    matrix.to_csv(path_or_buf=os.path.join(releasespath, states.STUSPS[index] + '.csv'), index=True, encoding='UTF-8', header=True)\n"
      ],
      "execution_count": null,
      "outputs": []
    },
    {
      "cell_type": "markdown",
      "metadata": {
        "id": "aykdPH1ug6dj"
      },
      "source": [
        "<br>\n",
        "\n",
        "A Computation Graph"
      ]
    },
    {
      "cell_type": "code",
      "metadata": {
        "id": "TnbXp5rug-l2"
      },
      "source": [
        "streams.visualize(filename='streams', format='pdf')"
      ],
      "execution_count": null,
      "outputs": []
    },
    {
      "cell_type": "markdown",
      "metadata": {
        "id": "GV7x2XRzJ0Vp"
      },
      "source": [
        "<br>\n",
        "<br>\n",
        "\n",
        "### Later"
      ]
    },
    {
      "cell_type": "markdown",
      "metadata": {
        "id": "xrxYzvSeUI8X"
      },
      "source": [
        "* Selections w.r.t. the states of `CAAC_IND`, `CARC_IND`, & `R3350_IND` in chemicals, per `TRI_CHEM_ID`."
      ]
    }
  ]
}