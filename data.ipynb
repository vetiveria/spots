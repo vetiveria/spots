{
  "nbformat": 4,
  "nbformat_minor": 0,
  "metadata": {
    "kernelspec": {
      "display_name": "Python 3",
      "language": "python",
      "name": "python3"
    },
    "language_info": {
      "name": ""
    },
    "colab": {
      "name": "data.ipynb",
      "provenance": [],
      "collapsed_sections": [],
      "toc_visible": true
    }
  },
  "cells": [
    {
      "cell_type": "markdown",
      "metadata": {
        "id": "4nKYrv7YLRnE",
        "colab_type": "text"
      },
      "source": [
        "# Hazardous Spots"
      ]
    },
    {
      "cell_type": "markdown",
      "metadata": {
        "id": "bZPxYwZ-Ldmd",
        "colab_type": "text"
      },
      "source": [
        "The aim herein is to acquire the geographic - and industry - details of all entitities that are considered hazard release spots by the [toxics release inventory](https://enviro.epa.gov/triexplorer/tri_release.facility)\n",
        "\n",
        "<br>"
      ]
    },
    {
      "cell_type": "markdown",
      "metadata": {
        "id": "OXGwQ8sGKZ8a",
        "colab_type": "text"
      },
      "source": [
        "## Preliminaries"
      ]
    },
    {
      "cell_type": "markdown",
      "metadata": {
        "id": "tlj8Wp6iMfUd",
        "colab_type": "text"
      },
      "source": [
        "\n",
        "**Unzip**\n",
        "\n",
        "In the case of a specific directory\n",
        "\n",
        "* `unzip -u -d -q directory src.zip`\n",
        "\n",
        "wherein the options -u, -d, & -q denote update, specified directory, & quietly, respectively. Additionally, for archive content previewing purposes\n",
        "\n",
        "* `unzip -l src.zip`\n",
        "* `unzip -v src.zip`\n",
        "\n",
        "<br>\n",
        "\n",
        "**Counting**\n",
        "\n",
        "!ls ... | wc -l\n",
        "\n",
        "<br>\n",
        "\n",
        "**Ubuntu**\n",
        "\n",
        "```bash\n",
        "%%bash\n",
        "cat /etc/issue &> ubuntuLOG.txt\n",
        "cat /proc/cpuinfo &> cpuLOG.txt\n",
        "cat /proc/meminfo &> memoryLOG.txt\n",
        "```\n",
        "\n",
        "<br>\n"
      ]
    },
    {
      "cell_type": "code",
      "metadata": {
        "id": "ZHEwe8l4GXU0",
        "colab_type": "code",
        "colab": {}
      },
      "source": [
        "%%bash\n",
        "rm -f *LOG.txt && rm -f *.pdf\n",
        "rm -rf states &&rm -rf counties && rm -rf tracts \n",
        "rm -rf spots && rm -rf naics && rm -rf designs"
      ],
      "execution_count": null,
      "outputs": []
    },
    {
      "cell_type": "code",
      "metadata": {
        "id": "XLhAu89fKuvI",
        "colab_type": "code",
        "colab": {}
      },
      "source": [
        "%%bash\n",
        "rm -rf src\n",
        "unzip -u -q src.zip\n",
        "rm -r src.zip\n",
        "\n",
        "rm -rf scripts\n",
        "unzip -u -q scripts.zip\n",
        "rm -r scripts.zip"
      ],
      "execution_count": null,
      "outputs": []
    },
    {
      "cell_type": "markdown",
      "metadata": {
        "id": "YARt9PnOqEUF",
        "colab_type": "text"
      },
      "source": [
        "<br>\n",
        "<br>\n",
        "\n",
        "### Packages"
      ]
    },
    {
      "cell_type": "markdown",
      "metadata": {
        "id": "qnyOiY5Vv53r",
        "colab_type": "text"
      },
      "source": [
        "libspatialindex"
      ]
    },
    {
      "cell_type": "code",
      "metadata": {
        "id": "k-7vEjP9sKVX",
        "colab_type": "code",
        "colab": {}
      },
      "source": [
        "%%bash\n",
        "chmod +x scripts/libspatialindex.sh\n",
        "./scripts/libspatialindex.sh &> libspatialindexLOG.txt"
      ],
      "execution_count": null,
      "outputs": []
    },
    {
      "cell_type": "markdown",
      "metadata": {
        "id": "IqPk-1sJv862",
        "colab_type": "text"
      },
      "source": [
        "<br>\n",
        "\n",
        "rtree"
      ]
    },
    {
      "cell_type": "code",
      "metadata": {
        "id": "F1bvrSDBtcwh",
        "colab_type": "code",
        "colab": {}
      },
      "source": [
        "%%bash\n",
        "chmod +x scripts/rtree.sh\n",
        "./scripts/rtree.sh &> rtreeLOG.txt"
      ],
      "execution_count": null,
      "outputs": []
    },
    {
      "cell_type": "markdown",
      "metadata": {
        "id": "ku4R1lfrwA3K",
        "colab_type": "text"
      },
      "source": [
        "<br>\n",
        "\n",
        "geopandas"
      ]
    },
    {
      "cell_type": "code",
      "metadata": {
        "id": "bfHO2LycLlTM",
        "colab_type": "code",
        "colab": {}
      },
      "source": [
        "!pip install geopandas &> geopandasLOG.txt"
      ],
      "execution_count": null,
      "outputs": []
    },
    {
      "cell_type": "markdown",
      "metadata": {
        "id": "uKoedUP5feYZ",
        "colab_type": "text"
      },
      "source": [
        "<br>\n",
        "\n",
        "dotmap"
      ]
    },
    {
      "cell_type": "code",
      "metadata": {
        "id": "bb0cmq_Afg4N",
        "colab_type": "code",
        "colab": {}
      },
      "source": [
        "!pip install dotmap &> dotmapLOG.txt"
      ],
      "execution_count": null,
      "outputs": []
    },
    {
      "cell_type": "markdown",
      "metadata": {
        "id": "0L9SSrKnLDW0",
        "colab_type": "text"
      },
      "source": [
        "<br>\n",
        "\n",
        "Quantities"
      ]
    },
    {
      "cell_type": "code",
      "metadata": {
        "id": "5coYm4GELF9e",
        "colab_type": "code",
        "colab": {}
      },
      "source": [
        "!pip install quantities &> quantitiesLOG.txt"
      ],
      "execution_count": null,
      "outputs": []
    },
    {
      "cell_type": "markdown",
      "metadata": {
        "id": "Gpkb36vAJfuK",
        "colab_type": "text"
      },
      "source": [
        "<br>\n",
        "<br>\n",
        "\n",
        "### Libraries"
      ]
    },
    {
      "cell_type": "code",
      "metadata": {
        "id": "AfT4HFo5cvYk",
        "colab_type": "code",
        "colab": {}
      },
      "source": [
        "import pandas as pd\n",
        "import dask.dataframe as dd\n",
        "import dask\n",
        "import numpy as np\n",
        "import requests\n",
        "import os"
      ],
      "execution_count": null,
      "outputs": []
    },
    {
      "cell_type": "code",
      "metadata": {
        "id": "tFd-EmHlLMQ1",
        "colab_type": "code",
        "colab": {}
      },
      "source": [
        "import logging"
      ],
      "execution_count": null,
      "outputs": []
    },
    {
      "cell_type": "markdown",
      "metadata": {
        "id": "F1aEtBPub03j",
        "colab_type": "text"
      },
      "source": [
        "<br>\n",
        "\n",
        "### Logging"
      ]
    },
    {
      "cell_type": "code",
      "metadata": {
        "id": "xMiYY37Vb3oL",
        "colab_type": "code",
        "colab": {}
      },
      "source": [
        "logging.basicConfig(level=logging.ERROR, format='%(asctime)s \\n\\r %(levelname)s %(message)s', datefmt='%H:%M:%S')\n",
        "logger = logging.getLogger(__name__)"
      ],
      "execution_count": null,
      "outputs": []
    },
    {
      "cell_type": "markdown",
      "metadata": {
        "id": "ZHlKCWfhJrzf",
        "colab_type": "text"
      },
      "source": [
        "<br>\n",
        "<br>\n",
        "\n",
        "### Classes"
      ]
    },
    {
      "cell_type": "code",
      "metadata": {
        "id": "jHaAaWwggIz5",
        "colab_type": "code",
        "colab": {}
      },
      "source": [
        "import src.boundaries.boundaries\n",
        "import src.settings\n",
        "import src.references.chemicals\n",
        "import src.releases.request\n",
        "import src.releases.helpers"
      ],
      "execution_count": null,
      "outputs": []
    },
    {
      "cell_type": "markdown",
      "metadata": {
        "id": "5V11Fm6c_HfU",
        "colab_type": "text"
      },
      "source": [
        "<br>\n",
        "\n",
        "Instantiate"
      ]
    },
    {
      "cell_type": "code",
      "metadata": {
        "id": "GaLEitv3gb27",
        "colab_type": "code",
        "colab": {}
      },
      "source": [
        "settings = src.settings.Settings()\n",
        "boundaries = src.boundaries.boundaries.Boundaries(crs=settings.crs)"
      ],
      "execution_count": null,
      "outputs": []
    },
    {
      "cell_type": "markdown",
      "metadata": {
        "id": "U6epbnLixQCl",
        "colab_type": "text"
      },
      "source": [
        "<br>\n",
        "<br>\n",
        "\n",
        "## Front Matter"
      ]
    },
    {
      "cell_type": "markdown",
      "metadata": {
        "id": "lwBLc6thPueM",
        "colab_type": "text"
      },
      "source": [
        "This module's objectives\n",
        "\n",
        "* acquire the lists of hazardous sites from the old TRI repository, and ensure that each site has its coordinate details: longitude, latitude, state FP/GEOID, county FP/GEOID, tract CE/GEOID\n",
        "* acquire the lists of hazardous sites from the latest TRI Services repository\n",
        "* map the details of these repositories\n",
        "* acquire their industry classifications\n",
        "* create an efficient storage set-up for the outcomes"
      ]
    },
    {
      "cell_type": "markdown",
      "metadata": {
        "id": "UzbrI5TanDYl",
        "colab_type": "text"
      },
      "source": [
        "<br>\n",
        "<br>\n",
        "\n",
        "### TRI"
      ]
    },
    {
      "cell_type": "markdown",
      "metadata": {
        "id": "j9NuJM8A24qe",
        "colab_type": "text"
      },
      "source": [
        "```bash\n",
        "%%bash\n",
        "python src/tri/main.py\n",
        "ls spots/mapable/*csv | wc -l\n",
        "ls spots/mapable/*csv | wc -l\n",
        "```"
      ]
    },
    {
      "cell_type": "markdown",
      "metadata": {
        "id": "dmh0C7QjH7BL",
        "colab_type": "text"
      },
      "source": [
        "<br>\n",
        "<br>\n",
        "\n",
        "### NAICS"
      ]
    },
    {
      "cell_type": "markdown",
      "metadata": {
        "id": "AVZPr74j3CLb",
        "colab_type": "text"
      },
      "source": [
        "```bash\n",
        "%%bash\n",
        "python src/naics/main.py\n",
        "ls naics/*csv | wc -l\n",
        "```"
      ]
    },
    {
      "cell_type": "markdown",
      "metadata": {
        "id": "sq2AI2kl3QWB",
        "colab_type": "text"
      },
      "source": [
        "<br>\n",
        "<br>\n",
        "\n",
        "## Releases"
      ]
    },
    {
      "cell_type": "markdown",
      "metadata": {
        "id": "f4Rxh6u0GH4R",
        "colab_type": "text"
      },
      "source": [
        "States"
      ]
    },
    {
      "cell_type": "code",
      "metadata": {
        "id": "ovsXC-KRgjMs",
        "colab_type": "code",
        "colab": {}
      },
      "source": [
        "states = boundaries.states(settings.latest)\n",
        "states.info()"
      ],
      "execution_count": null,
      "outputs": []
    },
    {
      "cell_type": "markdown",
      "metadata": {
        "id": "rLDM12qLOm3K",
        "colab_type": "text"
      },
      "source": [
        "<br>\n",
        "\n",
        "Counties"
      ]
    },
    {
      "cell_type": "code",
      "metadata": {
        "id": "Yv7KU6CAzYWy",
        "colab_type": "code",
        "colab": {}
      },
      "source": [
        "counties = boundaries.counties(settings.latest)\n",
        "counties = counties.merge(states[['STATEFP', 'STUSPS']], on='STATEFP', how='left')\n",
        "counties.rename(columns={'GEOID': 'COUNTYGEOID'}, inplace=True)\n",
        "counties.info()"
      ],
      "execution_count": null,
      "outputs": []
    },
    {
      "cell_type": "markdown",
      "metadata": {
        "id": "JR9RRlh9Fwlr",
        "colab_type": "text"
      },
      "source": [
        "<br>\n",
        "\n",
        "Chemicals"
      ]
    },
    {
      "cell_type": "code",
      "metadata": {
        "id": "-Sgb7TckFyho",
        "colab_type": "code",
        "colab": {}
      },
      "source": [
        "chemicals = src.references.chemicals.Chemicals().exc()\n",
        "chemicals.info()"
      ],
      "execution_count": null,
      "outputs": []
    },
    {
      "cell_type": "markdown",
      "metadata": {
        "id": "av2rag-kYRLu",
        "colab_type": "text"
      },
      "source": [
        "<br>\n",
        "\n",
        "Directories"
      ]
    },
    {
      "cell_type": "code",
      "metadata": {
        "id": "K_KNH7B_fH5i",
        "colab_type": "code",
        "colab": {}
      },
      "source": [
        "path = os.path.join(os.getcwd(), 'designs')\n",
        "if not os.path.exists(path):\n",
        "    os.makedirs(path)"
      ],
      "execution_count": null,
      "outputs": []
    },
    {
      "cell_type": "markdown",
      "metadata": {
        "id": "fnOLqxdzg9lX",
        "colab_type": "text"
      },
      "source": [
        "<br>\n",
        "<br>\n",
        "\n",
        "### Setting-up"
      ]
    },
    {
      "cell_type": "markdown",
      "metadata": {
        "id": "3D65Fog9xods",
        "colab_type": "text"
      },
      "source": [
        "Initially focus on LA.  Remember, these are **on-site releases & disposals**"
      ]
    },
    {
      "cell_type": "markdown",
      "metadata": {
        "id": "-34YWyyDN04Z",
        "colab_type": "text"
      },
      "source": [
        "In brief:\n",
        "\n",
        "* Drop: FACILITY_NAME, EPA_REGISTRY_ID, CAS_CHEM_NAME, RELEASE_BASIS_EST_CODE\n",
        "* Only select cases whereby TRADE_SECRET_IND == 0\n",
        "* Ascertain data consistency w.r.t. ENVIRONMENTAL_MEDIUM\n",
        "* Drop duplicates\n",
        "\n",
        "The last step merges the distributed data lines of the dask.DataFrame.  Beware of\n",
        "\n",
        "* The `DOC_CTRL_NUM`, `WATER_SEQUENCE_NUM`, `ENVIRONMENTAL_MEDIUM` fields; these probably aid distinct record identification via `drop_duplicates`.\n",
        "\n",
        "* Units of measure differences; a mix of pounds & grams\n",
        "\n",
        "\n",
        "\n",
        "<br>"
      ]
    },
    {
      "cell_type": "markdown",
      "metadata": {
        "id": "QLmpoZmoJQfN",
        "colab_type": "text"
      },
      "source": [
        "<br>\n",
        "<br>\n",
        "\n",
        "### Steps"
      ]
    },
    {
      "cell_type": "code",
      "metadata": {
        "id": "VnktBQcqXrlE",
        "colab_type": "code",
        "colab": {}
      },
      "source": [
        "request = src.releases.request.Request()\n",
        "helpers = src.releases.helpers.Helpers(counties=counties, chemicals=chemicals)"
      ],
      "execution_count": null,
      "outputs": []
    },
    {
      "cell_type": "code",
      "metadata": {
        "id": "j1wKFHdOc_TW",
        "colab_type": "code",
        "colab": {}
      },
      "source": [
        "for index in states.index:\n",
        "\n",
        "    logger.info('\\n...{}'.format(states.STUSPS[index]))\n",
        "\n",
        "    # A state's data streams\n",
        "    streams = request.exc(state=states.STUSPS[index])\n",
        "\n",
        "    # The streams: county, year, and chemical level\n",
        "    distributions = streams.compute(scheduler='processes')\n",
        "\n",
        "    # The chemical amount released; the by year optionmight be removed in future\n",
        "    base = distributions.groupby(by=['COUNTYGEOID', 'TRI_CHEM_ID', 'REPORTING_YEAR'])['TOTAL_RELEASE'].sum()\n",
        "    base = base.reset_index(drop=False)\n",
        "\n",
        "    # Get the unit of measure per chemical\n",
        "    details = helpers.units(data=base.copy())\n",
        "\n",
        "    # Ensure consistent release measures\n",
        "    transformed = helpers.weights(data=details.copy())\n",
        "\n",
        "    # Preliminary Focus: Analysis w.r.t. total release over time, per county & chemical\n",
        "    points = transformed.groupby(by=['COUNTYGEOID', 'TRI_CHEM_ID'])['RELEASE_KG'].sum()\n",
        "    points = points.reset_index(drop=False)\n",
        "\n",
        "    # Design matrix\n",
        "    matrix = helpers.regressors(data=points, state=states.STUSPS[index])\n",
        "    logger.info(matrix.info())\n",
        "    matrix.to_csv(path_or_buf=os.path.join(path, states.STUSPS[index] + '.csv'), index=True, encoding='UTF-8', header=True)\n"
      ],
      "execution_count": null,
      "outputs": []
    },
    {
      "cell_type": "markdown",
      "metadata": {
        "id": "aykdPH1ug6dj",
        "colab_type": "text"
      },
      "source": [
        "<br>\n",
        "\n",
        "A Computation Graph"
      ]
    },
    {
      "cell_type": "code",
      "metadata": {
        "id": "TnbXp5rug-l2",
        "colab_type": "code",
        "colab": {}
      },
      "source": [
        "streams.visualize(filename='streams', format='pdf')"
      ],
      "execution_count": null,
      "outputs": []
    },
    {
      "cell_type": "markdown",
      "metadata": {
        "id": "GV7x2XRzJ0Vp",
        "colab_type": "text"
      },
      "source": [
        "<br>\n",
        "<br>\n",
        "\n",
        "### Later"
      ]
    },
    {
      "cell_type": "markdown",
      "metadata": {
        "id": "xrxYzvSeUI8X",
        "colab_type": "text"
      },
      "source": [
        "* Selections w.r.t. the states of `CAAC_IND`, `CARC_IND`, & `R3350_IND` in chemicals, per `TRI_CHEM_ID`."
      ]
    }
  ]
}